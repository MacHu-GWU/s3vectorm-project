{
 "cells": [
  {
   "cell_type": "markdown",
   "id": "741af25f-4379-4376-82f3-c1731f82d8bd",
   "metadata": {},
   "source": [
    "# Quick Start"
   ]
  },
  {
   "cell_type": "code",
   "execution_count": 2,
   "id": "9a6ce6c3-2c10-4d1f-a876-dee6eb5f9535",
   "metadata": {},
   "outputs": [],
   "source": [
    "import boto3\n",
    "from pydantic import Field\n",
    "from s3vectorm.api import (\n",
    "    Bucket,\n",
    "    Index,\n",
    "    Vector,\n",
    "    BaseMetadata,\n",
    "    MetaKey,\n",
    ")"
   ]
  },
  {
   "cell_type": "code",
   "execution_count": 3,
   "id": "33ed55e0-062e-4e3c-b45b-f74e536b1b89",
   "metadata": {},
   "outputs": [],
   "source": [
    "bucket_name = \"s3vectorm-quick-start\"\n",
    "index_name = \"documents\"\n",
    "\n",
    "boto_ses = boto3.Session()\n",
    "client = boto_ses.client(\"s3vectors\")"
   ]
  },
  {
   "cell_type": "markdown",
   "id": "437bd361-09d3-4e3e-9598-12730807474b",
   "metadata": {},
   "source": [
    "## Create Vector Bucket"
   ]
  },
  {
   "cell_type": "code",
   "execution_count": 4,
   "id": "79031a05-da64-470e-ba93-256356a3d110",
   "metadata": {},
   "outputs": [
    {
     "data": {
      "text/plain": [
       "{'ResponseMetadata': {'RequestId': '6b3d2f74-0eda-4dea-b521-58720dd89dd1',\n",
       "  'HostId': '',\n",
       "  'HTTPStatusCode': 200,\n",
       "  'HTTPHeaders': {'date': 'Sat, 27 Sep 2025 21:17:58 GMT',\n",
       "   'content-type': 'application/json',\n",
       "   'content-length': '2',\n",
       "   'connection': 'keep-alive',\n",
       "   'x-amz-request-id': '6b3d2f74-0eda-4dea-b521-58720dd89dd1',\n",
       "   'access-control-allow-origin': '*',\n",
       "   'vary': 'origin, access-control-request-method, access-control-request-headers',\n",
       "   'access-control-expose-headers': '*'},\n",
       "  'RetryAttempts': 0}}"
      ]
     },
     "execution_count": 4,
     "metadata": {},
     "output_type": "execute_result"
    }
   ],
   "source": [
    "bucket = Bucket(name=bucket_name)\n",
    "bucket.create(client)"
   ]
  },
  {
   "cell_type": "markdown",
   "id": "bd23b1e9-02ce-47ec-848d-7d10ad17e57a",
   "metadata": {},
   "source": [
    "## Create Vector Index"
   ]
  },
  {
   "cell_type": "code",
   "execution_count": 5,
   "id": "ad9fee57-fb64-47bf-b38e-a08359a27247",
   "metadata": {},
   "outputs": [
    {
     "data": {
      "text/plain": [
       "{'ResponseMetadata': {'RequestId': '3ab5c42b-f3af-4a2d-baa2-d601c33b598e',\n",
       "  'HostId': '',\n",
       "  'HTTPStatusCode': 200,\n",
       "  'HTTPHeaders': {'date': 'Sat, 27 Sep 2025 21:18:05 GMT',\n",
       "   'content-type': 'application/json',\n",
       "   'content-length': '2',\n",
       "   'connection': 'keep-alive',\n",
       "   'x-amz-request-id': '3ab5c42b-f3af-4a2d-baa2-d601c33b598e',\n",
       "   'access-control-allow-origin': '*',\n",
       "   'vary': 'origin, access-control-request-method, access-control-request-headers',\n",
       "   'access-control-expose-headers': '*'},\n",
       "  'RetryAttempts': 0}}"
      ]
     },
     "execution_count": 5,
     "metadata": {},
     "output_type": "execute_result"
    }
   ],
   "source": [
    "index = Index(\n",
    "    bucket_name=bucket_name,\n",
    "    index_name=index_name,\n",
    "    data_type=\"float32\",\n",
    "    dimension=1024,\n",
    "    distance_metric=\"cosine\",\n",
    ")\n",
    "index.create(client)"
   ]
  },
  {
   "cell_type": "markdown",
   "id": "dad1fbd0-f840-414d-9b9c-c39780fbe307",
   "metadata": {},
   "source": [
    "## Define Your Vector Model"
   ]
  },
  {
   "cell_type": "code",
   "execution_count": 6,
   "id": "c9fb9be8-35d0-41f7-b304-7115cef183ee",
   "metadata": {},
   "outputs": [],
   "source": [
    "class DocChunk(Vector):\n",
    "    document_id: str = Field()\n",
    "    chunk_seq: int = Field()\n",
    "    owner_id: str = Field()"
   ]
  },
  {
   "cell_type": "markdown",
   "id": "3ff23924-b8e8-4d9f-a2bc-a97bfbb2995f",
   "metadata": {},
   "source": [
    "## Insert Your Data"
   ]
  },
  {
   "cell_type": "code",
   "execution_count": null,
   "id": "a21bf5fc-c5ee-4d04-b516-7d4b47e866ab",
   "metadata": {},
   "outputs": [],
   "source": [
    "# Two user: user-1, user-2\n",
    "# One document, doc-1, doc2, each one has two chunks\n",
    "vectors = [\n",
    "    DocChunk(\n",
    "        key=\"doc-1#1\",\n",
    "        data=[0.1] * 1024,\n",
    "        document_id=\"doc-1\",\n",
    "        chunk_seq=1,\n",
    "        owner_id=\"user-1\",\n",
    "    ),\n",
    "    DocChunk(\n",
    "        key=\"doc-1#2\",\n",
    "        data=[0.1] * 1024,\n",
    "        document_id=\"doc-1\",\n",
    "        chunk_seq=2,\n",
    "        owner_id=\"user-1\",\n",
    "    ),\n",
    "    DocChunk(\n",
    "        key=\"doc-2#1\",\n",
    "        data=[0.1] * 1024,\n",
    "        document_id=\"doc-2\",\n",
    "        chunk_seq=1,\n",
    "        owner_id=\"user-2\",\n",
    "    ),\n",
    "    DocChunk(\n",
    "        key=\"doc-2#2\",\n",
    "        data=[0.1] * 1024,\n",
    "        document_id=\"doc-2\",\n",
    "        chunk_seq=2,\n",
    "        owner_id=\"user-2\",\n",
    "    ),\n",
    "]\n",
    "index.put_vectors(client, vectors)"
   ]
  }
 ],
 "metadata": {
  "kernelspec": {
   "display_name": "Python 3 (ipykernel)",
   "language": "python",
   "name": "python3"
  },
  "language_info": {
   "codemirror_mode": {
    "name": "ipython",
    "version": 3
   },
   "file_extension": ".py",
   "mimetype": "text/x-python",
   "name": "python",
   "nbconvert_exporter": "python",
   "pygments_lexer": "ipython3",
   "version": "3.11.8"
  }
 },
 "nbformat": 4,
 "nbformat_minor": 5
}
